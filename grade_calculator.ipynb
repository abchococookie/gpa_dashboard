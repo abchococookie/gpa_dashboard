{
 "cells": [
  {
   "cell_type": "code",
   "execution_count": 1,
   "metadata": {},
   "outputs": [],
   "source": [
    "import pandas as pd\n",
    "import numpy as np\n",
    "from pandas import Series, DataFrame\n",
    "import os\n",
    "import openpyxl\n",
    "import streamlit"
   ]
  },
  {
   "cell_type": "code",
   "execution_count": 13,
   "metadata": {},
   "outputs": [],
   "source": [
    "letters = ['A+', 'A0', 'A-', 'B+', 'B0', 'B-', 'C+', 'C0', 'C-', 'D+', 'D0', 'D-', 'F', 'P', 'NP']\n",
    "scores = [4.3, 4.0, 3.7, 3.3, 3.0, 2.7, 2.3, 2.0, 1.7, 1.3, 1.0, 0.7, 0, 0, 0]\n",
    "grade_dict = dict(zip(letters, scores))"
   ]
  },
  {
   "cell_type": "code",
   "execution_count": null,
   "metadata": {},
   "outputs": [],
   "source": [
    "grade_df = DataFrame(pd.read_excel('total_grade.xlsx'))\n",
    "grade_df['성적(scores)'] = grade_df['성적(letters)'].map(grade_dict)"
   ]
  },
  {
   "cell_type": "code",
   "execution_count": null,
   "metadata": {},
   "outputs": [],
   "source": [
    "총이수학점 = grade_df[~grade_df['성적(letters)'].isin(['F', 'NP'])]['학점'].sum().astype(int)\n",
    "전공이수학점 = grade_df[~grade_df['성적(letters)'].isin(['F', 'NP']) & grade_df['전공여부']]['학점'].sum().astype(int)\n",
    "\n",
    "평점계산용_총이수학점 = grade_df[~grade_df['성적(letters)'].isin(['P', 'NP'])]['학점'].sum().astype(int) # P, NP는 평점계산에서 제외, F 포함\n",
    "평점계산용_전공이수학점 = grade_df[~grade_df['성적(letters)'].isin(['P', 'NP']) & grade_df['전공여부']]['학점'].sum().astype(int)\n",
    "\n",
    "총평점 = (grade_df['성적(scores)'] * grade_df['학점']).sum() / 평점계산용_총이수학점\n",
    "전공평점 = (grade_df[grade_df['전공여부']]['성적(scores)'] * grade_df[grade_df['전공여부']]['학점']).sum() / 평점계산용_전공이수학점\n",
    "\n",
    "print(f\"총이수학점: {총이수학점}/135\")\n",
    "print(f\"전공이수학점: {전공이수학점}/48\")\n",
    "print(f\"총평점: {총평점:.2f}/4.3\")\n",
    "print(f\"전공평점: {전공평점:.2f}/4.3\")"
   ]
  },
  {
   "cell_type": "code",
   "execution_count": 58,
   "metadata": {},
   "outputs": [],
   "source": [
    "grade_retake_df = grade_df.copy()\n",
    "retake_num = 2\n",
    "retake_max = 4\n",
    "retake_subjects = [\"대학영어2\", \"글쓰기\"]"
   ]
  }
 ],
 "metadata": {
  "kernelspec": {
   "display_name": "base",
   "language": "python",
   "name": "python3"
  },
  "language_info": {
   "codemirror_mode": {
    "name": "ipython",
    "version": 3
   },
   "file_extension": ".py",
   "mimetype": "text/x-python",
   "name": "python",
   "nbconvert_exporter": "python",
   "pygments_lexer": "ipython3",
   "version": "3.10.13"
  }
 },
 "nbformat": 4,
 "nbformat_minor": 2
}
